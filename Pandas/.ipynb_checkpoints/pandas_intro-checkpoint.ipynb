{
 "cells": [
  {
   "cell_type": "code",
   "execution_count": 1,
   "id": "931b368e-1af4-42a6-b72b-60334e971593",
   "metadata": {},
   "outputs": [],
   "source": [
    "import pandas as pd"
   ]
  },
  {
   "cell_type": "code",
   "execution_count": null,
   "id": "955dedda-7630-4554-962a-2e19e0db6c1f",
   "metadata": {},
   "outputs": [],
   "source": [
    "data = {\n",
    "    \"name\" : [\"Lisa\", \"Jennie\", \"Jisoo\", \"Rosanne\"],\n",
    "    \"age\" : [28, 39, 30, 28],\n",
    "    \"city\" : [\"NewYork\", \"Boston\", \"Paris\", \"Korea\"]\n",
    "}"
   ]
  }
 ],
 "metadata": {
  "kernelspec": {
   "display_name": "Python 3 (ipykernel)",
   "language": "python",
   "name": "python3"
  },
  "language_info": {
   "codemirror_mode": {
    "name": "ipython",
    "version": 3
   },
   "file_extension": ".py",
   "mimetype": "text/x-python",
   "name": "python",
   "nbconvert_exporter": "python",
   "pygments_lexer": "ipython3",
   "version": "3.12.3"
  }
 },
 "nbformat": 4,
 "nbformat_minor": 5
}
