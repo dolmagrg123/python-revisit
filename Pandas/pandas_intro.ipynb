{
 "cells": [
  {
   "cell_type": "code",
   "execution_count": 1,
   "id": "931b368e-1af4-42a6-b72b-60334e971593",
   "metadata": {},
   "outputs": [],
   "source": [
    "import pandas as pd"
   ]
  },
  {
   "cell_type": "code",
   "execution_count": 2,
   "id": "955dedda-7630-4554-962a-2e19e0db6c1f",
   "metadata": {},
   "outputs": [
    {
     "name": "stdout",
     "output_type": "stream",
     "text": [
      "      Name  Age       City\n",
      "0     Lisa   28      Paris\n",
      "1   Jennie   29      Korea\n",
      "2    Jisoo   30      Paris\n",
      "3  Rosanne   28  Australia\n"
     ]
    }
   ],
   "source": [
    "data = {\n",
    "    \"Name\" : [\"Lisa\", \"Jennie\", \"Jisoo\", \"Rosanne\"],\n",
    "    \"Age\" : [28, 29, 30, 28],\n",
    "    \"City\" : [\"Paris\", \"Korea\", \"Paris\", \"Australia\"]\n",
    "}\n",
    "\n",
    "df = pd.DataFrame(data)\n",
    "print(df)"
   ]
  },
  {
   "cell_type": "code",
   "execution_count": 3,
   "id": "e556f37f-184d-4744-92fd-9bb2ad2d200f",
   "metadata": {},
   "outputs": [
    {
     "name": "stdout",
     "output_type": "stream",
     "text": [
      "0       Lisa\n",
      "1     Jennie\n",
      "2      Jisoo\n",
      "3    Rosanne\n",
      "Name: Name, dtype: object\n"
     ]
    }
   ],
   "source": [
    "print(df[\"Name\"])"
   ]
  },
  {
   "cell_type": "code",
   "execution_count": 4,
   "id": "f33b4384-b855-4bd2-971f-7eab670eaf85",
   "metadata": {},
   "outputs": [
    {
     "name": "stdout",
     "output_type": "stream",
     "text": [
      "      Name  Age\n",
      "0     Lisa   28\n",
      "1   Jennie   29\n",
      "2    Jisoo   30\n",
      "3  Rosanne   28\n"
     ]
    }
   ],
   "source": [
    "print(df[[\"Name\", \"Age\"]])"
   ]
  },
  {
   "cell_type": "code",
   "execution_count": 5,
   "id": "6ef96c7f-12d3-4691-a0ff-5af7c0a4485d",
   "metadata": {},
   "outputs": [
    {
     "name": "stdout",
     "output_type": "stream",
     "text": [
      "Name     Lisa\n",
      "Age        28\n",
      "City    Paris\n",
      "Name: 0, dtype: object\n"
     ]
    }
   ],
   "source": [
    "print(df.iloc[0])"
   ]
  },
  {
   "cell_type": "code",
   "execution_count": 6,
   "id": "a11cb2cf-f3c0-4620-a9e7-b342ca220500",
   "metadata": {},
   "outputs": [],
   "source": [
    "keypari = df[(df[\"City\"] == \"Paris\")]"
   ]
  },
  {
   "cell_type": "code",
   "execution_count": 7,
   "id": "eba28e85-8805-467a-b48a-6d18a546338c",
   "metadata": {},
   "outputs": [
    {
     "name": "stdout",
     "output_type": "stream",
     "text": [
      "    Name  Age   City\n",
      "0   Lisa   28  Paris\n",
      "2  Jisoo   30  Paris\n"
     ]
    }
   ],
   "source": [
    "print(keypari)"
   ]
  },
  {
   "cell_type": "code",
   "execution_count": 8,
   "id": "932227a8-ac5a-41eb-92ef-a5a5e13f2604",
   "metadata": {},
   "outputs": [
    {
     "name": "stdout",
     "output_type": "stream",
     "text": [
      "    Name  Age   City\n",
      "2  Jisoo   30  Paris\n"
     ]
    }
   ],
   "source": [
    "keyparis = df[(df[\"City\"] == \"Paris\") & (df[\"Age\"] > 28) ]\n",
    "print(keyparis)"
   ]
  },
  {
   "cell_type": "code",
   "execution_count": 9,
   "id": "b40981b1-533d-4369-b803-b76b07471cd7",
   "metadata": {},
   "outputs": [],
   "source": [
    "cities = df[df[\"City\"].isin([\"Paris\", \"Korea\"])]"
   ]
  },
  {
   "cell_type": "code",
   "execution_count": 10,
   "id": "463e252e-9dcc-4516-b595-92456a8a327b",
   "metadata": {},
   "outputs": [
    {
     "name": "stdout",
     "output_type": "stream",
     "text": [
      "     Name  Age   City\n",
      "0    Lisa   28  Paris\n",
      "1  Jennie   29  Korea\n",
      "2   Jisoo   30  Paris\n"
     ]
    }
   ],
   "source": [
    "print(cities)"
   ]
  },
  {
   "cell_type": "code",
   "execution_count": 12,
   "id": "328939f9-d989-4284-9e3f-bf7fe3434072",
   "metadata": {},
   "outputs": [],
   "source": [
    "cities.to_csv(\"cities.csv\")"
   ]
  },
  {
   "cell_type": "code",
   "execution_count": null,
   "id": "32dca4d9-54f1-4db0-986f-1d1d38f55cfd",
   "metadata": {},
   "outputs": [],
   "source": []
  }
 ],
 "metadata": {
  "kernelspec": {
   "display_name": "Python 3 (ipykernel)",
   "language": "python",
   "name": "python3"
  },
  "language_info": {
   "codemirror_mode": {
    "name": "ipython",
    "version": 3
   },
   "file_extension": ".py",
   "mimetype": "text/x-python",
   "name": "python",
   "nbconvert_exporter": "python",
   "pygments_lexer": "ipython3",
   "version": "3.12.3"
  }
 },
 "nbformat": 4,
 "nbformat_minor": 5
}
