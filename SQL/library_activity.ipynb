{
 "cells": [
  {
   "cell_type": "code",
   "execution_count": 1,
   "id": "0e21c61c-7d7d-40f1-a34b-882226375264",
   "metadata": {},
   "outputs": [],
   "source": [
    "%load_ext sql"
   ]
  },
  {
   "cell_type": "code",
   "execution_count": 2,
   "id": "65196623-c25a-4075-8959-af33ed42189d",
   "metadata": {},
   "outputs": [],
   "source": [
    "%sql sqlite:///library_activity.db"
   ]
  },
  {
   "cell_type": "code",
   "execution_count": 3,
   "id": "e230aefb-c6fa-405b-88d0-7da4354454f1",
   "metadata": {},
   "outputs": [
    {
     "name": "stdout",
     "output_type": "stream",
     "text": [
      " * sqlite:///library_activity.db\n",
      "Done.\n"
     ]
    },
    {
     "data": {
      "text/html": [
       "<table>\n",
       "    <thead>\n",
       "        <tr>\n",
       "            <th>type</th>\n",
       "            <th>name</th>\n",
       "            <th>tbl_name</th>\n",
       "            <th>rootpage</th>\n",
       "            <th>sql</th>\n",
       "        </tr>\n",
       "    </thead>\n",
       "    <tbody>\n",
       "        <tr>\n",
       "            <td>table</td>\n",
       "            <td>Books</td>\n",
       "            <td>Books</td>\n",
       "            <td>2</td>\n",
       "            <td>CREATE TABLE Books (<br>    book_id INTEGER PRIMARY KEY,<br>    title TEXT,<br>    author TEXT,<br>    genre TEXT,<br>    publication_year INTEGER<br>)</td>\n",
       "        </tr>\n",
       "        <tr>\n",
       "            <td>table</td>\n",
       "            <td>Members</td>\n",
       "            <td>Members</td>\n",
       "            <td>3</td>\n",
       "            <td>CREATE TABLE Members (<br>    member_id INTEGER PRIMARY KEY,<br>    first_name TEXT,<br>    last_name TEXT,<br>    membership_type TEXT<br>)</td>\n",
       "        </tr>\n",
       "        <tr>\n",
       "            <td>table</td>\n",
       "            <td>BorrowedBooks</td>\n",
       "            <td>BorrowedBooks</td>\n",
       "            <td>4</td>\n",
       "            <td>CREATE TABLE BorrowedBooks (<br>    borrow_id INTEGER PRIMARY KEY,<br>    member_id INTEGER,<br>    book_id INTEGER,<br>    borrow_date DATE,<br>    return_date DATE,<br>    FOREIGN KEY (member_id) REFERENCES Members(member_id),<br>    FOREIGN KEY (book_id) REFERENCES Books(book_id)<br>)</td>\n",
       "        </tr>\n",
       "    </tbody>\n",
       "</table>"
      ],
      "text/plain": [
       "[('table', 'Books', 'Books', 2, 'CREATE TABLE Books (\\n    book_id INTEGER PRIMARY KEY,\\n    title TEXT,\\n    author TEXT,\\n    genre TEXT,\\n    publication_year INTEGER\\n)'),\n",
       " ('table', 'Members', 'Members', 3, 'CREATE TABLE Members (\\n    member_id INTEGER PRIMARY KEY,\\n    first_name TEXT,\\n    last_name TEXT,\\n    membership_type TEXT\\n)'),\n",
       " ('table', 'BorrowedBooks', 'BorrowedBooks', 4, 'CREATE TABLE BorrowedBooks (\\n    borrow_id INTEGER PRIMARY KEY,\\n    member_id INTEGER,\\n    book_id INTEGER,\\n    borrow_date DATE,\\n    return_date DATE,\\n    FOREIGN KEY (member_id) REFERENCES Members(member_id),\\n    FOREIGN KEY (book_id) REFERENCES Books(book_id)\\n)')]"
      ]
     },
     "execution_count": 3,
     "metadata": {},
     "output_type": "execute_result"
    }
   ],
   "source": [
    "%%sql\n",
    "SELECT * FROM sqlite_schema;"
   ]
  },
  {
   "cell_type": "code",
   "execution_count": 5,
   "id": "cceac8bc-8628-4c8d-9b43-1aa6b7ef03e2",
   "metadata": {},
   "outputs": [
    {
     "name": "stdout",
     "output_type": "stream",
     "text": [
      " * sqlite:///library_activity.db\n",
      "Done.\n"
     ]
    },
    {
     "data": {
      "text/html": [
       "<table>\n",
       "    <thead>\n",
       "        <tr>\n",
       "            <th>borrow_id</th>\n",
       "            <th>member_id</th>\n",
       "            <th>book_id</th>\n",
       "            <th>borrow_date</th>\n",
       "            <th>return_date</th>\n",
       "        </tr>\n",
       "    </thead>\n",
       "    <tbody>\n",
       "        <tr>\n",
       "            <td>1</td>\n",
       "            <td>1</td>\n",
       "            <td>2</td>\n",
       "            <td>2023-09-01</td>\n",
       "            <td>2023-09-10</td>\n",
       "        </tr>\n",
       "        <tr>\n",
       "            <td>2</td>\n",
       "            <td>2</td>\n",
       "            <td>4</td>\n",
       "            <td>2023-09-05</td>\n",
       "            <td>2023-09-15</td>\n",
       "        </tr>\n",
       "        <tr>\n",
       "            <td>3</td>\n",
       "            <td>3</td>\n",
       "            <td>1</td>\n",
       "            <td>2023-09-07</td>\n",
       "            <td>None</td>\n",
       "        </tr>\n",
       "        <tr>\n",
       "            <td>4</td>\n",
       "            <td>4</td>\n",
       "            <td>6</td>\n",
       "            <td>2023-09-08</td>\n",
       "            <td>None</td>\n",
       "        </tr>\n",
       "        <tr>\n",
       "            <td>5</td>\n",
       "            <td>5</td>\n",
       "            <td>3</td>\n",
       "            <td>2023-09-09</td>\n",
       "            <td>2023-09-19</td>\n",
       "        </tr>\n",
       "    </tbody>\n",
       "</table>"
      ],
      "text/plain": [
       "[(1, 1, 2, '2023-09-01', '2023-09-10'),\n",
       " (2, 2, 4, '2023-09-05', '2023-09-15'),\n",
       " (3, 3, 1, '2023-09-07', None),\n",
       " (4, 4, 6, '2023-09-08', None),\n",
       " (5, 5, 3, '2023-09-09', '2023-09-19')]"
      ]
     },
     "execution_count": 5,
     "metadata": {},
     "output_type": "execute_result"
    }
   ],
   "source": [
    "%%sql\n",
    "SELECT * FROM BorrowedBooks;"
   ]
  },
  {
   "cell_type": "code",
   "execution_count": 4,
   "id": "44fee5dd-5175-4cc8-8654-d38af5fc3633",
   "metadata": {
    "scrolled": true
   },
   "outputs": [
    {
     "name": "stdout",
     "output_type": "stream",
     "text": [
      " * sqlite:///library_activity.db\n",
      "Done.\n"
     ]
    },
    {
     "data": {
      "text/html": [
       "<table>\n",
       "    <thead>\n",
       "        <tr>\n",
       "            <th>book_id</th>\n",
       "            <th>title</th>\n",
       "            <th>author</th>\n",
       "            <th>genre</th>\n",
       "            <th>publication_year</th>\n",
       "        </tr>\n",
       "    </thead>\n",
       "    <tbody>\n",
       "        <tr>\n",
       "            <td>1</td>\n",
       "            <td>1984</td>\n",
       "            <td>George Orwell</td>\n",
       "            <td>Dystopian</td>\n",
       "            <td>1949</td>\n",
       "        </tr>\n",
       "        <tr>\n",
       "            <td>2</td>\n",
       "            <td>To Kill a Mockingbird</td>\n",
       "            <td>Harper Lee</td>\n",
       "            <td>Fiction</td>\n",
       "            <td>1960</td>\n",
       "        </tr>\n",
       "        <tr>\n",
       "            <td>3</td>\n",
       "            <td>A Brief History of Time</td>\n",
       "            <td>Stephen Hawking</td>\n",
       "            <td>Science</td>\n",
       "            <td>1988</td>\n",
       "        </tr>\n",
       "        <tr>\n",
       "            <td>4</td>\n",
       "            <td>Dune</td>\n",
       "            <td>Frank Herbert</td>\n",
       "            <td>Science Fiction</td>\n",
       "            <td>1965</td>\n",
       "        </tr>\n",
       "        <tr>\n",
       "            <td>5</td>\n",
       "            <td>The Catcher in the Rye</td>\n",
       "            <td>J.D. Salinger</td>\n",
       "            <td>Fiction</td>\n",
       "            <td>1951</td>\n",
       "        </tr>\n",
       "        <tr>\n",
       "            <td>6</td>\n",
       "            <td>Fahrenheit 451</td>\n",
       "            <td>Ray Bradbury</td>\n",
       "            <td>Dystopian</td>\n",
       "            <td>1953</td>\n",
       "        </tr>\n",
       "        <tr>\n",
       "            <td>7</td>\n",
       "            <td>The Great Gatsby</td>\n",
       "            <td>F. Scott Fitzgerald</td>\n",
       "            <td>Fiction</td>\n",
       "            <td>1925</td>\n",
       "        </tr>\n",
       "        <tr>\n",
       "            <td>8</td>\n",
       "            <td>The War of the Worlds</td>\n",
       "            <td>H.G. Wells</td>\n",
       "            <td>Science Fiction</td>\n",
       "            <td>1898</td>\n",
       "        </tr>\n",
       "        <tr>\n",
       "            <td>9</td>\n",
       "            <td>The Martian</td>\n",
       "            <td>Andy Weir</td>\n",
       "            <td>Science Fiction</td>\n",
       "            <td>2011</td>\n",
       "        </tr>\n",
       "        <tr>\n",
       "            <td>10</td>\n",
       "            <td>The Selfish Gene</td>\n",
       "            <td>Richard Dawkins</td>\n",
       "            <td>Science</td>\n",
       "            <td>1976</td>\n",
       "        </tr>\n",
       "    </tbody>\n",
       "</table>"
      ],
      "text/plain": [
       "[(1, '1984', 'George Orwell', 'Dystopian', 1949),\n",
       " (2, 'To Kill a Mockingbird', 'Harper Lee', 'Fiction', 1960),\n",
       " (3, 'A Brief History of Time', 'Stephen Hawking', 'Science', 1988),\n",
       " (4, 'Dune', 'Frank Herbert', 'Science Fiction', 1965),\n",
       " (5, 'The Catcher in the Rye', 'J.D. Salinger', 'Fiction', 1951),\n",
       " (6, 'Fahrenheit 451', 'Ray Bradbury', 'Dystopian', 1953),\n",
       " (7, 'The Great Gatsby', 'F. Scott Fitzgerald', 'Fiction', 1925),\n",
       " (8, 'The War of the Worlds', 'H.G. Wells', 'Science Fiction', 1898),\n",
       " (9, 'The Martian', 'Andy Weir', 'Science Fiction', 2011),\n",
       " (10, 'The Selfish Gene', 'Richard Dawkins', 'Science', 1976)]"
      ]
     },
     "execution_count": 4,
     "metadata": {},
     "output_type": "execute_result"
    }
   ],
   "source": [
    "%%sql\n",
    "SELECT * FROM Books;"
   ]
  },
  {
   "cell_type": "code",
   "execution_count": 20,
   "id": "dfe44bd6-edaa-454c-93ca-8861e0220c0b",
   "metadata": {},
   "outputs": [
    {
     "name": "stdout",
     "output_type": "stream",
     "text": [
      " * sqlite:///library_activity.db\n",
      "Done.\n"
     ]
    },
    {
     "data": {
      "text/html": [
       "<table>\n",
       "    <thead>\n",
       "        <tr>\n",
       "            <th>member_id</th>\n",
       "            <th>first_name</th>\n",
       "            <th>last_name</th>\n",
       "            <th>membership_type</th>\n",
       "        </tr>\n",
       "    </thead>\n",
       "    <tbody>\n",
       "        <tr>\n",
       "            <td>1</td>\n",
       "            <td>Alice</td>\n",
       "            <td>Johnson</td>\n",
       "            <td>Regular</td>\n",
       "        </tr>\n",
       "        <tr>\n",
       "            <td>2</td>\n",
       "            <td>Bob</td>\n",
       "            <td>Smith</td>\n",
       "            <td>Premium</td>\n",
       "        </tr>\n",
       "        <tr>\n",
       "            <td>3</td>\n",
       "            <td>Charlie</td>\n",
       "            <td>Davis</td>\n",
       "            <td>Regular</td>\n",
       "        </tr>\n",
       "        <tr>\n",
       "            <td>4</td>\n",
       "            <td>Dana</td>\n",
       "            <td>Lee</td>\n",
       "            <td>Premium</td>\n",
       "        </tr>\n",
       "        <tr>\n",
       "            <td>5</td>\n",
       "            <td>Eve</td>\n",
       "            <td>Martinez</td>\n",
       "            <td>Regular</td>\n",
       "        </tr>\n",
       "    </tbody>\n",
       "</table>"
      ],
      "text/plain": [
       "[(1, 'Alice', 'Johnson', 'Regular'),\n",
       " (2, 'Bob', 'Smith', 'Premium'),\n",
       " (3, 'Charlie', 'Davis', 'Regular'),\n",
       " (4, 'Dana', 'Lee', 'Premium'),\n",
       " (5, 'Eve', 'Martinez', 'Regular')]"
      ]
     },
     "execution_count": 20,
     "metadata": {},
     "output_type": "execute_result"
    }
   ],
   "source": [
    "%%sql\n",
    "SELECT * FROM Members;"
   ]
  },
  {
   "cell_type": "code",
   "execution_count": null,
   "id": "74089b81-33b1-4473-a574-5c75268fab84",
   "metadata": {},
   "outputs": [],
   "source": [
    "#Write a query to display the titles of the books along with their borrow dates."
   ]
  },
  {
   "cell_type": "code",
   "execution_count": 8,
   "id": "04daed43-584a-49ab-bf71-972c5f4125f1",
   "metadata": {},
   "outputs": [
    {
     "name": "stdout",
     "output_type": "stream",
     "text": [
      " * sqlite:///library_activity.db\n",
      "Done.\n"
     ]
    },
    {
     "data": {
      "text/html": [
       "<table>\n",
       "    <thead>\n",
       "        <tr>\n",
       "            <th>title</th>\n",
       "            <th>borrow_date</th>\n",
       "        </tr>\n",
       "    </thead>\n",
       "    <tbody>\n",
       "        <tr>\n",
       "            <td>To Kill a Mockingbird</td>\n",
       "            <td>2023-09-01</td>\n",
       "        </tr>\n",
       "        <tr>\n",
       "            <td>Dune</td>\n",
       "            <td>2023-09-05</td>\n",
       "        </tr>\n",
       "        <tr>\n",
       "            <td>1984</td>\n",
       "            <td>2023-09-07</td>\n",
       "        </tr>\n",
       "        <tr>\n",
       "            <td>Fahrenheit 451</td>\n",
       "            <td>2023-09-08</td>\n",
       "        </tr>\n",
       "        <tr>\n",
       "            <td>A Brief History of Time</td>\n",
       "            <td>2023-09-09</td>\n",
       "        </tr>\n",
       "    </tbody>\n",
       "</table>"
      ],
      "text/plain": [
       "[('To Kill a Mockingbird', '2023-09-01'),\n",
       " ('Dune', '2023-09-05'),\n",
       " ('1984', '2023-09-07'),\n",
       " ('Fahrenheit 451', '2023-09-08'),\n",
       " ('A Brief History of Time', '2023-09-09')]"
      ]
     },
     "execution_count": 8,
     "metadata": {},
     "output_type": "execute_result"
    }
   ],
   "source": [
    "%%sql\n",
    "SELECT books.title, \n",
    "    BorrowedBooks.borrow_date\n",
    "FROM Books\n",
    "JOIN BorrowedBooks\n",
    "ON Books.book_id = BorrowedBooks.book_id;"
   ]
  },
  {
   "cell_type": "code",
   "execution_count": null,
   "id": "d9afc087-a8d2-4595-8179-e5f2ca210d5a",
   "metadata": {},
   "outputs": [],
   "source": [
    "#Write a query to list all columns from the Members table along with their borrow dates"
   ]
  },
  {
   "cell_type": "code",
   "execution_count": 17,
   "id": "12914152-7d03-462e-b1bf-e64685ebc4bb",
   "metadata": {},
   "outputs": [
    {
     "name": "stdout",
     "output_type": "stream",
     "text": [
      " * sqlite:///library_activity.db\n",
      "Done.\n"
     ]
    },
    {
     "data": {
      "text/html": [
       "<table>\n",
       "    <thead>\n",
       "        <tr>\n",
       "            <th>member_id</th>\n",
       "            <th>first_name</th>\n",
       "            <th>last_name</th>\n",
       "            <th>membership_type</th>\n",
       "            <th>borrow_date</th>\n",
       "        </tr>\n",
       "    </thead>\n",
       "    <tbody>\n",
       "        <tr>\n",
       "            <td>1</td>\n",
       "            <td>Alice</td>\n",
       "            <td>Johnson</td>\n",
       "            <td>Regular</td>\n",
       "            <td>2023-09-01</td>\n",
       "        </tr>\n",
       "        <tr>\n",
       "            <td>2</td>\n",
       "            <td>Bob</td>\n",
       "            <td>Smith</td>\n",
       "            <td>Premium</td>\n",
       "            <td>2023-09-05</td>\n",
       "        </tr>\n",
       "        <tr>\n",
       "            <td>3</td>\n",
       "            <td>Charlie</td>\n",
       "            <td>Davis</td>\n",
       "            <td>Regular</td>\n",
       "            <td>2023-09-07</td>\n",
       "        </tr>\n",
       "        <tr>\n",
       "            <td>4</td>\n",
       "            <td>Dana</td>\n",
       "            <td>Lee</td>\n",
       "            <td>Premium</td>\n",
       "            <td>2023-09-08</td>\n",
       "        </tr>\n",
       "        <tr>\n",
       "            <td>5</td>\n",
       "            <td>Eve</td>\n",
       "            <td>Martinez</td>\n",
       "            <td>Regular</td>\n",
       "            <td>2023-09-09</td>\n",
       "        </tr>\n",
       "    </tbody>\n",
       "</table>"
      ],
      "text/plain": [
       "[(1, 'Alice', 'Johnson', 'Regular', '2023-09-01'),\n",
       " (2, 'Bob', 'Smith', 'Premium', '2023-09-05'),\n",
       " (3, 'Charlie', 'Davis', 'Regular', '2023-09-07'),\n",
       " (4, 'Dana', 'Lee', 'Premium', '2023-09-08'),\n",
       " (5, 'Eve', 'Martinez', 'Regular', '2023-09-09')]"
      ]
     },
     "execution_count": 17,
     "metadata": {},
     "output_type": "execute_result"
    }
   ],
   "source": [
    "%%sql\n",
    "SELECT Members.*,\n",
    "    BorrowedBooks.borrow_date\n",
    "FROM Members\n",
    "JOIN BorrowedBooks\n",
    "on Members.member_id = BorrowedBooks.member_id;"
   ]
  },
  {
   "cell_type": "code",
   "execution_count": null,
   "id": "b7b6deb3-4941-4a92-badc-29609bac5804",
   "metadata": {},
   "outputs": [],
   "source": [
    "#Write a query to list all columns from the Books table for books borrowed by a member with member_id = 1."
   ]
  },
  {
   "cell_type": "code",
   "execution_count": 19,
   "id": "069833e4-f184-4dec-8c7f-f6253607ef3c",
   "metadata": {},
   "outputs": [
    {
     "name": "stdout",
     "output_type": "stream",
     "text": [
      " * sqlite:///library_activity.db\n",
      "Done.\n"
     ]
    },
    {
     "data": {
      "text/html": [
       "<table>\n",
       "    <thead>\n",
       "        <tr>\n",
       "            <th>book_id</th>\n",
       "            <th>title</th>\n",
       "            <th>author</th>\n",
       "            <th>genre</th>\n",
       "            <th>publication_year</th>\n",
       "        </tr>\n",
       "    </thead>\n",
       "    <tbody>\n",
       "        <tr>\n",
       "            <td>2</td>\n",
       "            <td>To Kill a Mockingbird</td>\n",
       "            <td>Harper Lee</td>\n",
       "            <td>Fiction</td>\n",
       "            <td>1960</td>\n",
       "        </tr>\n",
       "    </tbody>\n",
       "</table>"
      ],
      "text/plain": [
       "[(2, 'To Kill a Mockingbird', 'Harper Lee', 'Fiction', 1960)]"
      ]
     },
     "execution_count": 19,
     "metadata": {},
     "output_type": "execute_result"
    }
   ],
   "source": [
    "%%sql\n",
    "SELECT books.*\n",
    "FROM books\n",
    "JOIN BorrowedBooks\n",
    "ON books.book_id = BorrowedBooks.book_id\n",
    "WHERE BorrowedBooks.member_id = 1;"
   ]
  },
  {
   "cell_type": "code",
   "execution_count": null,
   "id": "d3f49dc7-f1e4-4f5a-b58a-6f434d4004f6",
   "metadata": {},
   "outputs": [],
   "source": []
  }
 ],
 "metadata": {
  "kernelspec": {
   "display_name": "Python 3 (ipykernel)",
   "language": "python",
   "name": "python3"
  },
  "language_info": {
   "codemirror_mode": {
    "name": "ipython",
    "version": 3
   },
   "file_extension": ".py",
   "mimetype": "text/x-python",
   "name": "python",
   "nbconvert_exporter": "python",
   "pygments_lexer": "ipython3",
   "version": "3.12.3"
  }
 },
 "nbformat": 4,
 "nbformat_minor": 5
}
