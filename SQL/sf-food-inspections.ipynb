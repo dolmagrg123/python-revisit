{
 "cells": [
  {
   "cell_type": "code",
   "execution_count": 1,
   "id": "52738121-6d09-4dfb-8d45-af365131c2ae",
   "metadata": {},
   "outputs": [],
   "source": [
    "%load_ext sql\n"
   ]
  },
  {
   "cell_type": "code",
   "execution_count": 2,
   "id": "3bc89727-406a-4a4c-96a1-f534be260c56",
   "metadata": {},
   "outputs": [],
   "source": [
    "%sql sqlite:///sf-food-inspections-lives.sqlite"
   ]
  },
  {
   "cell_type": "code",
   "execution_count": 3,
   "id": "d43c32ec-a417-4e44-a542-a494125c54dd",
   "metadata": {},
   "outputs": [
    {
     "name": "stdout",
     "output_type": "stream",
     "text": [
      " * sqlite:///sf-food-inspections-lives.sqlite\n",
      "Done.\n"
     ]
    },
    {
     "data": {
      "text/html": [
       "<table>\n",
       "    <thead>\n",
       "        <tr>\n",
       "            <th>type</th>\n",
       "            <th>name</th>\n",
       "            <th>tbl_name</th>\n",
       "            <th>rootpage</th>\n",
       "            <th>sql</th>\n",
       "        </tr>\n",
       "    </thead>\n",
       "    <tbody>\n",
       "        <tr>\n",
       "            <td>table</td>\n",
       "            <td>inspection_records</td>\n",
       "            <td>inspection_records</td>\n",
       "            <td>2</td>\n",
       "            <td>CREATE TABLE inspection_records (<br>\tbusiness_id INTEGER NOT NULL, <br>\tbusiness_name VARCHAR(64) NOT NULL, <br>\tbusiness_address VARCHAR(50), <br>\tbusiness_city VARCHAR(13) NOT NULL, <br>\tbusiness_state VARCHAR(2) NOT NULL, <br>\tbusiness_postal_code VARCHAR(9), <br>\tbusiness_latitude FLOAT, <br>\tbusiness_longitude FLOAT, <br>\tbusiness_phone_number BIGINT, <br>\tinspection_id VARCHAR(14) NOT NULL, <br>\tinspection_date DATE NOT NULL, <br>\tinspection_score INTEGER, <br>\tinspection_type VARCHAR(33) NOT NULL, <br>\tviolation_id VARCHAR(21), <br>\tviolation_description VARCHAR(73), <br>\trisk_category VARCHAR(13)<br>)</td>\n",
       "        </tr>\n",
       "        <tr>\n",
       "            <td>index</td>\n",
       "            <td>business_id_idx</td>\n",
       "            <td>inspection_records</td>\n",
       "            <td>11261</td>\n",
       "            <td>CREATE INDEX &quot;business_id_idx&quot; ON inspection_records(business_id)</td>\n",
       "        </tr>\n",
       "        <tr>\n",
       "            <td>index</td>\n",
       "            <td>business_name_idx</td>\n",
       "            <td>inspection_records</td>\n",
       "            <td>11842</td>\n",
       "            <td>CREATE INDEX &quot;business_name_idx&quot; ON inspection_records(business_name)</td>\n",
       "        </tr>\n",
       "        <tr>\n",
       "            <td>index</td>\n",
       "            <td>inspection_date_idx</td>\n",
       "            <td>inspection_records</td>\n",
       "            <td>13225</td>\n",
       "            <td>CREATE INDEX &quot;inspection_date_idx&quot; ON inspection_records(inspection_date)</td>\n",
       "        </tr>\n",
       "        <tr>\n",
       "            <td>index</td>\n",
       "            <td>inspection_score_idx</td>\n",
       "            <td>inspection_records</td>\n",
       "            <td>14203</td>\n",
       "            <td>CREATE INDEX &quot;inspection_score_idx&quot; ON inspection_records(inspection_score)</td>\n",
       "        </tr>\n",
       "        <tr>\n",
       "            <td>index</td>\n",
       "            <td>violation_id_idx</td>\n",
       "            <td>inspection_records</td>\n",
       "            <td>14690</td>\n",
       "            <td>CREATE INDEX &quot;violation_id_idx&quot; ON inspection_records(violation_id)</td>\n",
       "        </tr>\n",
       "    </tbody>\n",
       "</table>"
      ],
      "text/plain": [
       "[('table', 'inspection_records', 'inspection_records', 2, 'CREATE TABLE inspection_records (\\n\\tbusiness_id INTEGER NOT NULL, \\n\\tbusiness_name VARCHAR(64) NOT NULL, \\n\\tbusiness_address VARCHAR(50), \\n\\tbusi ... (301 characters truncated) ... EGER, \\n\\tinspection_type VARCHAR(33) NOT NULL, \\n\\tviolation_id VARCHAR(21), \\n\\tviolation_description VARCHAR(73), \\n\\trisk_category VARCHAR(13)\\n)'),\n",
       " ('index', 'business_id_idx', 'inspection_records', 11261, 'CREATE INDEX \"business_id_idx\" ON inspection_records(business_id)'),\n",
       " ('index', 'business_name_idx', 'inspection_records', 11842, 'CREATE INDEX \"business_name_idx\" ON inspection_records(business_name)'),\n",
       " ('index', 'inspection_date_idx', 'inspection_records', 13225, 'CREATE INDEX \"inspection_date_idx\" ON inspection_records(inspection_date)'),\n",
       " ('index', 'inspection_score_idx', 'inspection_records', 14203, 'CREATE INDEX \"inspection_score_idx\" ON inspection_records(inspection_score)'),\n",
       " ('index', 'violation_id_idx', 'inspection_records', 14690, 'CREATE INDEX \"violation_id_idx\" ON inspection_records(violation_id)')]"
      ]
     },
     "execution_count": 3,
     "metadata": {},
     "output_type": "execute_result"
    }
   ],
   "source": [
    "%%sql\n",
    "SELECT * FROM sqlite_schema;"
   ]
  },
  {
   "cell_type": "code",
   "execution_count": 4,
   "id": "1b1fe8b4-63d5-4c3e-b844-6fc1e4e4bd4d",
   "metadata": {},
   "outputs": [
    {
     "name": "stdout",
     "output_type": "stream",
     "text": [
      " * sqlite:///sf-food-inspections-lives.sqlite\n",
      "Done.\n"
     ]
    },
    {
     "data": {
      "text/html": [
       "<table>\n",
       "    <thead>\n",
       "        <tr>\n",
       "            <th>COUNT(*)</th>\n",
       "        </tr>\n",
       "    </thead>\n",
       "    <tbody>\n",
       "        <tr>\n",
       "            <td>53234</td>\n",
       "        </tr>\n",
       "    </tbody>\n",
       "</table>"
      ],
      "text/plain": [
       "[(53234,)]"
      ]
     },
     "execution_count": 4,
     "metadata": {},
     "output_type": "execute_result"
    }
   ],
   "source": [
    "%%sql\n",
    "SELECT COUNT(*) FROM inspection_records"
   ]
  },
  {
   "cell_type": "code",
   "execution_count": null,
   "id": "df875f8e-816a-4052-a3d4-c3830be3fae3",
   "metadata": {},
   "outputs": [],
   "source": []
  }
 ],
 "metadata": {
  "kernelspec": {
   "display_name": "Python 3 (ipykernel)",
   "language": "python",
   "name": "python3"
  },
  "language_info": {
   "codemirror_mode": {
    "name": "ipython",
    "version": 3
   },
   "file_extension": ".py",
   "mimetype": "text/x-python",
   "name": "python",
   "nbconvert_exporter": "python",
   "pygments_lexer": "ipython3",
   "version": "3.12.3"
  }
 },
 "nbformat": 4,
 "nbformat_minor": 5
}
